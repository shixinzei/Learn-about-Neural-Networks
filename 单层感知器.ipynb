{
 "cells": [
  {
   "cell_type": "code",
   "execution_count": 17,
   "metadata": {},
   "outputs": [],
   "source": [
    "import numpy as np\n",
    "import matplotlib.pyplot as plt"
   ]
  },
  {
   "cell_type": "code",
   "execution_count": 18,
   "metadata": {},
   "outputs": [],
   "source": [
    "# 定义数据\n",
    "X = np.array([[1,2,3],\n",
    "              [1,4,3],\n",
    "              [1,1,1],\n",
    "              [1,2,1]])\n",
    "# 定义标签\n",
    "T = np.array([[1],\n",
    "             [1],\n",
    "             [-1],\n",
    "             [-1]])\n",
    "# 权值初始化\n",
    "W = np.random.random([3,1])\n",
    "# 学习率设置\n",
    "lr=0.1\n",
    "# 神经网络输出\n",
    "Y=0"
   ]
  },
  {
   "cell_type": "code",
   "execution_count": 19,
   "metadata": {},
   "outputs": [],
   "source": [
    "# 更新权值函数\n",
    "def train():\n",
    "    global X,Y,W,lr,T\n",
    "    # 同时计算4个数据的预测值,Y(4,1)\n",
    "    Y = np.sign(np.dot(X,W))\n",
    "    # T-Y得到4个标签值与预测值的误差E(4,1)\n",
    "    E = T - Y\n",
    "    # 计算权值的变化,误差的平均值\n",
    "    delta_W = lr * (X.T.dot(E)) / X.shape[0]\n",
    "    # 更新权值\n",
    "    W = W +delta_W"
   ]
  },
  {
   "cell_type": "code",
   "execution_count": 20,
   "metadata": {},
   "outputs": [
    {
     "name": "stdout",
     "output_type": "stream",
     "text": [
      "epoch 1\n",
      "weigts: [[ 0.35879061]\n",
      " [ 0.40207594]\n",
      " [-0.02511113]]\n",
      "epoch 2\n",
      "weigts: [[ 0.25879061]\n",
      " [ 0.25207594]\n",
      " [-0.12511113]]\n",
      "epoch 3\n",
      "weigts: [[ 0.15879061]\n",
      " [ 0.10207594]\n",
      " [-0.22511113]]\n",
      "epoch 4\n",
      "weigts: [[ 0.15879061]\n",
      " [ 0.25207594]\n",
      " [-0.02511113]]\n",
      "epoch 5\n",
      "weigts: [[ 0.05879061]\n",
      " [ 0.10207594]\n",
      " [-0.12511113]]\n",
      "epoch 6\n",
      "weigts: [[ 0.00879061]\n",
      " [ 0.05207594]\n",
      " [-0.07511113]]\n",
      "epoch 7\n",
      "weigts: [[ 0.05879061]\n",
      " [ 0.25207594]\n",
      " [ 0.17488887]]\n",
      "epoch 8\n",
      "weigts: [[-0.04120939]\n",
      " [ 0.10207594]\n",
      " [ 0.07488887]]\n",
      "epoch 9\n",
      "weigts: [[-0.14120939]\n",
      " [-0.04792406]\n",
      " [-0.02511113]]\n",
      "epoch 10\n",
      "weigts: [[-0.04120939]\n",
      " [ 0.25207594]\n",
      " [ 0.27488887]]\n",
      "epoch 11\n",
      "weigts: [[-0.14120939]\n",
      " [ 0.10207594]\n",
      " [ 0.17488887]]\n",
      "epoch 12\n",
      "weigts: [[-0.24120939]\n",
      " [-0.04792406]\n",
      " [ 0.07488887]]\n",
      "epoch 13\n",
      "weigts: [[-0.14120939]\n",
      " [ 0.25207594]\n",
      " [ 0.37488887]]\n",
      "epoch 14\n",
      "weigts: [[-0.24120939]\n",
      " [ 0.10207594]\n",
      " [ 0.27488887]]\n",
      "epoch 15\n",
      "weigts: [[-0.34120939]\n",
      " [-0.04792406]\n",
      " [ 0.17488887]]\n",
      "epoch 16\n",
      "weigts: [[-0.29120939]\n",
      " [ 0.15207594]\n",
      " [ 0.32488887]]\n",
      "epoch 17\n",
      "weigts: [[-0.39120939]\n",
      " [ 0.00207594]\n",
      " [ 0.22488887]]\n",
      "Finished\n"
     ]
    }
   ],
   "source": [
    "# 训练模型\n",
    "for i in range(100):\n",
    "    # 更新权值\n",
    "    train()\n",
    "    # 打印当前训练次数\n",
    "    print(\"epoch\",i+1)\n",
    "    # 当前的权值\n",
    "    print(\"weigts:\",W)\n",
    "    # 计算当前的输出\n",
    "    Y = np.sign(np.dot(X,W))\n",
    "    # all()表示Y中的所有值跟T中的所有值都对应相等，才为真\n",
    "    if (Y == T ).all():\n",
    "        print(\"Finished\")\n",
    "        # 跳出循环\n",
    "        break"
   ]
  },
  {
   "cell_type": "code",
   "execution_count": 21,
   "metadata": {},
   "outputs": [
    {
     "data": {
      "image/png": "[encoded data removed]",
      "text/plain": [
       "<matplotlib.figure.Figure at 0x2d001398e48>"
      ]
     },
     "metadata": {
      "needs_background": "light"
     },
     "output_type": "display_data"
    }
   ],
   "source": [
    "# 画图\n",
    "# 正样本的xy坐标\n",
    "x1 = [3,4]\n",
    "y1 = [3,3]\n",
    "# 负样本xy坐标\n",
    "x2 = [1,2]\n",
    "y2 = [1,1]\n",
    "# 定义分类边界线的斜率和截距\n",
    "k = -W[1]/W[2]\n",
    "d = -W[0]/W[2]\n",
    "# 设定两个点\n",
    "xdata = (0,5)\n",
    "# 通过两点来确定一条直线，用红色的线来画出分界线\n",
    "plt.plot(xdata,xdata*k+d,'r')\n",
    "# 用蓝色的点画正样本\n",
    "plt.scatter(x1,y1,c='b')\n",
    "# 用黄色的点画负样本\n",
    "plt.scatter(x2,y2,c='y')\n",
    "plt.show()"
   ]
  },
  {
   "cell_type": "code",
   "execution_count": null,
   "metadata": {},
   "outputs": [],
   "source": []
  }
 ],
 "metadata": {
  "kernelspec": {
   "display_name": "Python 3",
   "language": "python",
   "name": "python3"
  },
  "language_info": {
   "codemirror_mode": {
    "name": "ipython",
    "version": 3
   },
   "file_extension": ".py",
   "mimetype": "text/x-python",
   "name": "python",
   "nbconvert_exporter": "python",
   "pygments_lexer": "ipython3",
   "version": "3.6.2"
  }
 },
 "nbformat": 4,
 "nbformat_minor": 2
}
