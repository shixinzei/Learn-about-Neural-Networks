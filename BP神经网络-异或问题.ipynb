{
 "cells": [
  {
   "cell_type": "code",
   "execution_count": 12,
   "metadata": {},
   "outputs": [],
   "source": [
    "import numpy as np\n",
    "import matplotlib.pyplot as plt"
   ]
  },
  {
   "cell_type": "code",
   "execution_count": 13,
   "metadata": {},
   "outputs": [],
   "source": [
    "# 输入数据\n",
    "# 4个数据分别对应0与0异或，0与1,异或，1与0异或，1与1异或\n",
    "X = np.array([[1,0,0],\n",
    "              [1,0,1],\n",
    "              [1,1,0],\n",
    "              [1,1,1]])\n",
    "# 标签，分别对应4种异或情况的结果\n",
    "Y = np.array([[0],\n",
    "              [1],\n",
    "              [1],\n",
    "              [0]])\n",
    "# 3-10-1\n",
    "# 取值范围-1到1\n",
    "V = np.random.random([3,10]) * 2 - 1\n",
    "W = np.random.random([10,1]) * 2 - 1\n",
    "# 学习率\n",
    "lr = 0.11 "
   ]
  },
  {
   "cell_type": "code",
   "execution_count": 14,
   "metadata": {},
   "outputs": [],
   "source": [
    "def sigmoid(x):\n",
    "    return 1/(1+np.exp(-x))\n",
    "\n",
    "def dsigmoid(x):\n",
    "    return x*(1-x)\n",
    "\n",
    "# 权值调整函数\n",
    "def update():\n",
    "    global V,W\n",
    "    \n",
    "    # 求每一层的输出\n",
    "    L1 = sigmoid(np.dot(X,V))\n",
    "    L2 = sigmoid(np.dot(L1,W))\n",
    "    \n",
    "    # 求每一层的学习信号\n",
    "    L2_delta = (Y-L2)*dsigmoid(L2)\n",
    "    L1_delta = L2_delta.dot(W.T)*dsigmoid(L1)\n",
    "    \n",
    "    # 求每一层权值的变化\n",
    "    delta_W = lr*L1.T.dot(L2_delta)\n",
    "    delta_V = lr*X.T.dot(L1_delta)\n",
    "    \n",
    "    # 改变权值\n",
    "    W = W + delta_W\n",
    "    V = V + delta_V"
   ]
  },
  {
   "cell_type": "code",
   "execution_count": 15,
   "metadata": {},
   "outputs": [
    {
     "name": "stdout",
     "output_type": "stream",
     "text": [
      "loss: 0.124331361359\n",
      "loss: 0.118669164571\n",
      "loss: 0.111473655238\n",
      "loss: 0.0954961684973\n",
      "loss: 0.0657011765319\n",
      "loss: 0.0352571686351\n",
      "loss: 0.0186792264831\n",
      "loss: 0.0111794014884\n",
      "loss: 0.00749384841993\n",
      "loss: 0.00545120814387\n",
      "loss: 0.00420064605433\n",
      "loss: 0.00337461982677\n",
      "loss: 0.00279650379007\n",
      "loss: 0.00237332282587\n",
      "loss: 0.00205235298132\n",
      "loss: 0.0018018262899\n",
      "loss: 0.00160162296529\n",
      "loss: 0.00143846082698\n",
      "loss: 0.00130325996195\n",
      "loss: 0.00118962581457\n",
      "loss: 0.00109293825521\n",
      "loss: 0.00100978415216\n",
      "loss: 0.000937592460126\n",
      "loss: 0.000874392882175\n",
      "loss: 0.000818652256717\n",
      "loss: 0.000769161165696\n",
      "loss: 0.000724953782483\n",
      "loss: 0.000685250200169\n",
      "loss: 0.000649414262912\n",
      "loss: 0.000616922279297\n",
      "loss: 0.000587339498057\n",
      "loss: 0.000560302203035\n",
      "loss: 0.00053550393129\n",
      "loss: 0.000512684754499\n"
     ]
    }
   ],
   "source": [
    "for i in range(10001):\n",
    "    # 更新权值\n",
    "    update()\n",
    "    if i%300==0:\n",
    "        # 求每一层的输出\n",
    "        L1 = sigmoid(np.dot(X,V))\n",
    "        L2 = sigmoid(np.dot(L1,W))\n",
    "        loss = np.mean(np.square(Y-L2)/2)\n",
    "        print('loss:',loss)"
   ]
  },
  {
   "cell_type": "code",
   "execution_count": 16,
   "metadata": {},
   "outputs": [
    {
     "name": "stdout",
     "output_type": "stream",
     "text": [
      "[[ 0.02465666]\n",
      " [ 0.96838809]\n",
      " [ 0.96760385]\n",
      " [ 0.03724321]]\n"
     ]
    }
   ],
   "source": [
    "L1 = sigmoid(np.dot(X,V))\n",
    "L2 = sigmoid(np.dot(L1,W))\n",
    "print(L2)"
   ]
  },
  {
   "cell_type": "code",
   "execution_count": 18,
   "metadata": {},
   "outputs": [
    {
     "name": "stdout",
     "output_type": "stream",
     "text": [
      "0\n",
      "1\n",
      "1\n",
      "0\n"
     ]
    }
   ],
   "source": [
    "def judge(x):\n",
    "    if x >= 0.5:\n",
    "        return 1\n",
    "    else:\n",
    "        return 0\n",
    "\n",
    "for i in map(judge,L2):\n",
    "    print(i)"
   ]
  },
  {
   "cell_type": "code",
   "execution_count": null,
   "metadata": {
    "collapsed": true
   },
   "outputs": [],
   "source": []
  }
 ],
 "metadata": {
  "kernelspec": {
   "display_name": "Python 3",
   "language": "python",
   "name": "python3"
  },
  "language_info": {
   "codemirror_mode": {
    "name": "ipython",
    "version": 3
   },
   "file_extension": ".py",
   "mimetype": "text/x-python",
   "name": "python",
   "nbconvert_exporter": "python",
   "pygments_lexer": "ipython3",
   "version": "3.6.2"
  }
 },
 "nbformat": 4,
 "nbformat_minor": 1
}
