{
 "cells": [
  {
   "cell_type": "code",
   "execution_count": 25,
   "metadata": {},
   "outputs": [],
   "source": [
    "import numpy as np\n",
    "from sklearn.datasets import load_digits\n",
    "from sklearn.preprocessing import LabelBinarizer\n",
    "from sklearn.model_selection import train_test_split\n",
    "from sklearn.metrics import classification_report,confusion_matrix\n",
    "import matplotlib.pyplot as plt"
   ]
  },
  {
   "cell_type": "code",
   "execution_count": 26,
   "metadata": {},
   "outputs": [
    {
     "name": "stdout",
     "output_type": "stream",
     "text": [
      "(1797, 8, 8)\n"
     ]
    }
   ],
   "source": [
    "# 载入数据\n",
    "digits = load_digits()\n",
    "print(digits.images.shape)"
   ]
  },
  {
   "cell_type": "code",
   "execution_count": 27,
   "metadata": {},
   "outputs": [
    {
     "data": {
      "image/png": "[encoded data removed]",
      "text/plain": [
       "<matplotlib.figure.Figure at 0x2b0116d9518>"
      ]
     },
     "metadata": {
      "needs_background": "light"
     },
     "output_type": "display_data"
    },
    {
     "data": {
      "image/png": "[encoded data removed]",
      "text/plain": [
       "<matplotlib.figure.Figure at 0x2b0116508d0>"
      ]
     },
     "metadata": {
      "needs_background": "light"
     },
     "output_type": "display_data"
    },
    {
     "data": {
      "image/png": "[encoded data removed]",
      "text/plain": [
       "<matplotlib.figure.Figure at 0x2b0116293c8>"
      ]
     },
     "metadata": {
      "needs_background": "light"
     },
     "output_type": "display_data"
    },
    {
     "data": {
      "image/png": "[encoded data removed]",
      "text/plain": [
       "<matplotlib.figure.Figure at 0x2b0116c7eb8>"
      ]
     },
     "metadata": {
      "needs_background": "light"
     },
     "output_type": "display_data"
    }
   ],
   "source": [
    "# 显示图片\n",
    "plt.imshow(digits.images[0],cmap='gray')\n",
    "plt.show()\n",
    "plt.imshow(digits.images[1],cmap='gray')\n",
    "plt.show()\n",
    "plt.imshow(digits.images[2],cmap='gray')\n",
    "plt.show()\n",
    "plt.imshow(digits.images[3],cmap='gray')\n",
    "plt.show()"
   ]
  },
  {
   "cell_type": "code",
   "execution_count": 28,
   "metadata": {},
   "outputs": [
    {
     "name": "stdout",
     "output_type": "stream",
     "text": [
      "(1797, 64)\n",
      "(1797,)\n",
      "[[  0.   0.   5.  13.   9.   1.   0.   0.   0.   0.  13.  15.  10.  15.\n",
      "    5.   0.   0.   3.  15.   2.   0.  11.   8.   0.   0.   4.  12.   0.\n",
      "    0.   8.   8.   0.   0.   5.   8.   0.   0.   9.   8.   0.   0.   4.\n",
      "   11.   0.   1.  12.   7.   0.   0.   2.  14.   5.  10.  12.   0.   0.\n",
      "    0.   0.   6.  13.  10.   0.   0.   0.]\n",
      " [  0.   0.   0.  12.  13.   5.   0.   0.   0.   0.   0.  11.  16.   9.\n",
      "    0.   0.   0.   0.   3.  15.  16.   6.   0.   0.   0.   7.  15.  16.\n",
      "   16.   2.   0.   0.   0.   0.   1.  16.  16.   3.   0.   0.   0.   0.\n",
      "    1.  16.  16.   6.   0.   0.   0.   0.   1.  16.  16.   6.   0.   0.\n",
      "    0.   0.   0.  11.  16.  10.   0.   0.]\n",
      " [  0.   0.   0.   4.  15.  12.   0.   0.   0.   0.   3.  16.  15.  14.\n",
      "    0.   0.   0.   0.   8.  13.   8.  16.   0.   0.   0.   0.   1.   6.\n",
      "   15.  11.   0.   0.   0.   1.   8.  13.  15.   1.   0.   0.   0.   9.\n",
      "   16.  16.   5.   0.   0.   0.   0.   3.  13.  16.  16.  11.   5.   0.\n",
      "    0.   0.   0.   3.  11.  16.   9.   0.]\n",
      " [  0.   0.   7.  15.  13.   1.   0.   0.   0.   8.  13.   6.  15.   4.\n",
      "    0.   0.   0.   2.   1.  13.  13.   0.   0.   0.   0.   0.   2.  15.\n",
      "   11.   1.   0.   0.   0.   0.   0.   1.  12.  12.   1.   0.   0.   0.\n",
      "    0.   0.   1.  10.   8.   0.   0.   0.   8.   4.   5.  14.   9.   0.\n",
      "    0.   0.   7.  13.  13.   9.   0.   0.]]\n",
      "[0 1 2 3]\n"
     ]
    }
   ],
   "source": [
    "# 数据\n",
    "X = digits.data\n",
    "# 标签\n",
    "y = digits.target\n",
    "print(X.shape)\n",
    "print(y.shape)\n",
    "print(X[:4])\n",
    "print(y[:4])"
   ]
  },
  {
   "cell_type": "code",
   "execution_count": 29,
   "metadata": {},
   "outputs": [
    {
     "name": "stdout",
     "output_type": "stream",
     "text": [
      "[5 7 7 6 1]\n",
      "[[0 0 0 0 0 1 0 0 0 0]\n",
      " [0 0 0 0 0 0 0 1 0 0]\n",
      " [0 0 0 0 0 0 0 1 0 0]\n",
      " [0 0 0 0 0 0 1 0 0 0]\n",
      " [0 1 0 0 0 0 0 0 0 0]]\n"
     ]
    }
   ],
   "source": [
    "# 64-100-10\n",
    "# 定义一个神经网络，结构：64-100-10\n",
    "\n",
    "# 定义输入层到隐藏层之间的权值矩阵\n",
    "V = np.random.random((64,100))*2-1\n",
    "# 定义隐藏层到输出层之间的权值矩阵\n",
    "W = np.random.random((100,10))*2-1\n",
    "\n",
    "# 数据切分 \n",
    "# 默认为1/4为测试集，3/4为训练集\n",
    "X_train,X_test,y_train,y_test = train_test_split(X,y)\n",
    "\n",
    "# 标签二值化\n",
    "# 0->1000000000\n",
    "# 3->0001000000\n",
    "# 9->0000000001\n",
    "labels_train = LabelBinarizer().fit_transform(y_train)\n",
    "print(y_train[:5])\n",
    "print(labels_train[:5])"
   ]
  },
  {
   "cell_type": "code",
   "execution_count": 30,
   "metadata": {},
   "outputs": [],
   "source": [
    "# 激活函数\n",
    "def sigmoid(x):\n",
    "    return 1/(1+np.exp(-x))\n",
    "\n",
    "# 激活函数的导数\n",
    "def dsigmoid(x):\n",
    "    return x*(1-x)\n",
    "\n",
    "# 训练模型\n",
    "def train(X,y,steps=10000,lr=0.11):\n",
    "    global V,W\n",
    "    for n in range(steps+1):\n",
    "        # 随机选取一个数据\n",
    "        i = np.random.randint(X.shape[0])\n",
    "        # 获取一个数据\n",
    "        x = X[i]\n",
    "        # 变为两维\n",
    "        x = np.atleast_2d(x)\n",
    "        # BP算法公式\n",
    "        # 计算隐藏层的输出\n",
    "        L1 = sigmoid(np.dot(x,V))\n",
    "        # 计算输出层的输出\n",
    "        L2 = sigmoid(np.dot(L1,W))\n",
    "        # 计算L2_delta,L1_delta\n",
    "        L2_delta = (y[i]-L2)*dsigmoid(L2)\n",
    "        L1_delta = L2_delta.dot(W.T)*dsigmoid(L1)\n",
    "        # 更新权值\n",
    "        W += lr*L1.T.dot(L2_delta)\n",
    "        V += lr*x.T.dot(L1_delta)\n",
    "        \n",
    "        # 没训练1000次预测一次准确率\n",
    "        if n%1000==0:\n",
    "            output = predict(X_test)\n",
    "            # 找标签值最大的位置实际为得到标签的值\n",
    "            predictions = np.argmax(output,axis=1)\n",
    "            acc = np.mean(np.equal(predictions,y_test))\n",
    "            print(\"steps:\",n,\"accuracy:\",acc)\n",
    "            \n",
    "\n",
    "def predict(x):\n",
    "    # 计算隐藏层的输出\n",
    "    L1 = sigmoid(np.dot(x,V))\n",
    "    # 计算输出层的输出\n",
    "    L2 = sigmoid(np.dot(L1,W))\n",
    "    return L2"
   ]
  },
  {
   "cell_type": "code",
   "execution_count": 32,
   "metadata": {},
   "outputs": [
    {
     "name": "stdout",
     "output_type": "stream",
     "text": [
      "steps: 0 accuracy: 0.984444444444\n",
      "steps: 1000 accuracy: 0.988888888889\n",
      "steps: 2000 accuracy: 0.977777777778\n",
      "steps: 3000 accuracy: 0.98\n",
      "steps: 4000 accuracy: 0.991111111111\n",
      "steps: 5000 accuracy: 0.993333333333\n",
      "steps: 6000 accuracy: 0.984444444444\n",
      "steps: 7000 accuracy: 0.993333333333\n",
      "steps: 8000 accuracy: 0.993333333333\n",
      "steps: 9000 accuracy: 0.993333333333\n",
      "steps: 10000 accuracy: 0.997777777778\n",
      "steps: 11000 accuracy: 0.995555555556\n",
      "steps: 12000 accuracy: 0.995555555556\n",
      "steps: 13000 accuracy: 0.993333333333\n",
      "steps: 14000 accuracy: 0.991111111111\n",
      "steps: 15000 accuracy: 0.991111111111\n",
      "steps: 16000 accuracy: 0.988888888889\n",
      "steps: 17000 accuracy: 0.991111111111\n",
      "steps: 18000 accuracy: 0.991111111111\n",
      "steps: 19000 accuracy: 0.993333333333\n",
      "steps: 20000 accuracy: 0.991111111111\n",
      "steps: 21000 accuracy: 0.991111111111\n",
      "steps: 22000 accuracy: 0.995555555556\n",
      "steps: 23000 accuracy: 0.991111111111\n",
      "steps: 24000 accuracy: 0.993333333333\n",
      "steps: 25000 accuracy: 0.995555555556\n",
      "steps: 26000 accuracy: 0.993333333333\n",
      "steps: 27000 accuracy: 0.991111111111\n",
      "steps: 28000 accuracy: 0.991111111111\n",
      "steps: 29000 accuracy: 0.995555555556\n",
      "steps: 30000 accuracy: 0.993333333333\n"
     ]
    }
   ],
   "source": [
    "train(X_train,labels_train,30000)"
   ]
  },
  {
   "cell_type": "code",
   "execution_count": 35,
   "metadata": {},
   "outputs": [
    {
     "name": "stdout",
     "output_type": "stream",
     "text": [
      "              precision    recall  f1-score   support\n",
      "\n",
      "           0       1.00      0.98      0.99        50\n",
      "           1       0.98      1.00      0.99        45\n",
      "           2       1.00      1.00      1.00        47\n",
      "           3       1.00      1.00      1.00        40\n",
      "           4       1.00      0.98      0.99        46\n",
      "           5       1.00      1.00      1.00        45\n",
      "           6       0.97      1.00      0.99        39\n",
      "           7       0.98      1.00      0.99        44\n",
      "           8       1.00      0.98      0.99        54\n",
      "           9       1.00      1.00      1.00        40\n",
      "\n",
      "    accuracy                           0.99       450\n",
      "   macro avg       0.99      0.99      0.99       450\n",
      "weighted avg       0.99      0.99      0.99       450\n",
      "\n"
     ]
    }
   ],
   "source": [
    "output = predict(X_test)\n",
    "predictions = np.argmax(output,axis=1)\n",
    "print(classification_report(predictions,y_test))"
   ]
  },
  {
   "cell_type": "code",
   "execution_count": 37,
   "metadata": {},
   "outputs": [
    {
     "name": "stdout",
     "output_type": "stream",
     "text": [
      "[[49  0  0  0  0  0  1  0  0  0]\n",
      " [ 0 45  0  0  0  0  0  0  0  0]\n",
      " [ 0  0 47  0  0  0  0  0  0  0]\n",
      " [ 0  0  0 40  0  0  0  0  0  0]\n",
      " [ 0  0  0  0 45  0  0  1  0  0]\n",
      " [ 0  0  0  0  0 45  0  0  0  0]\n",
      " [ 0  0  0  0  0  0 39  0  0  0]\n",
      " [ 0  0  0  0  0  0  0 44  0  0]\n",
      " [ 0  1  0  0  0  0  0  0 53  0]\n",
      " [ 0  0  0  0  0  0  0  0  0 40]]\n"
     ]
    }
   ],
   "source": [
    "# 混淆矩阵\n",
    "print(confusion_matrix(predictions,y_test))"
   ]
  },
  {
   "cell_type": "code",
   "execution_count": 19,
   "metadata": {},
   "outputs": [
    {
     "data": {
      "text/plain": [
       "(1347, 64)"
      ]
     },
     "execution_count": 19,
     "metadata": {},
     "output_type": "execute_result"
    }
   ],
   "source": [
    "X_train.shape"
   ]
  },
  {
   "cell_type": "code",
   "execution_count": 20,
   "metadata": {},
   "outputs": [
    {
     "data": {
      "text/plain": [
       "array([  0.,   0.,  10.,  16.,  15.,   1.,   0.,   0.,   0.,   0.,  16.,\n",
       "        12.,   5.,   0.,   0.,   0.,   0.,   2.,  16.,   9.,   4.,   0.,\n",
       "         0.,   0.,   0.,   4.,  16.,  16.,  16.,  14.,   2.,   0.,   0.,\n",
       "         1.,  10.,   4.,   1.,  16.,   4.,   0.,   0.,   0.,   0.,   0.,\n",
       "         2.,  16.,   7.,   0.,   0.,   0.,   7.,   8.,  14.,  16.,   3.,\n",
       "         0.,   0.,   0.,   6.,  13.,  10.,   4.,   0.,   0.])"
      ]
     },
     "execution_count": 20,
     "metadata": {},
     "output_type": "execute_result"
    }
   ],
   "source": [
    "x = X_train[0]\n",
    "x"
   ]
  },
  {
   "cell_type": "code",
   "execution_count": 21,
   "metadata": {},
   "outputs": [
    {
     "data": {
      "text/plain": [
       "array([[  0.,   0.,  10.,  16.,  15.,   1.,   0.,   0.,   0.,   0.,  16.,\n",
       "         12.,   5.,   0.,   0.,   0.,   0.,   2.,  16.,   9.,   4.,   0.,\n",
       "          0.,   0.,   0.,   4.,  16.,  16.,  16.,  14.,   2.,   0.,   0.,\n",
       "          1.,  10.,   4.,   1.,  16.,   4.,   0.,   0.,   0.,   0.,   0.,\n",
       "          2.,  16.,   7.,   0.,   0.,   0.,   7.,   8.,  14.,  16.,   3.,\n",
       "          0.,   0.,   0.,   6.,  13.,  10.,   4.,   0.,   0.]])"
      ]
     },
     "execution_count": 21,
     "metadata": {},
     "output_type": "execute_result"
    }
   ],
   "source": [
    "x = np.atleast_2d(x)\n",
    "x"
   ]
  },
  {
   "cell_type": "code",
   "execution_count": null,
   "metadata": {},
   "outputs": [],
   "source": []
  }
 ],
 "metadata": {
  "anaconda-cloud": {},
  "kernelspec": {
   "display_name": "Python 3",
   "language": "python",
   "name": "python3"
  },
  "language_info": {
   "codemirror_mode": {
    "name": "ipython",
    "version": 3
   },
   "file_extension": ".py",
   "mimetype": "text/x-python",
   "name": "python",
   "nbconvert_exporter": "python",
   "pygments_lexer": "ipython3",
   "version": "3.6.2"
  }
 },
 "nbformat": 4,
 "nbformat_minor": 1
}
